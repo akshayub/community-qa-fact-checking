{
 "cells": [
  {
   "cell_type": "code",
   "execution_count": 1,
   "metadata": {},
   "outputs": [
    {
     "name": "stderr",
     "output_type": "stream",
     "text": [
      "Using TensorFlow backend.\n"
     ]
    }
   ],
   "source": [
    "import pandas as pd\n",
    "import numpy as np\n",
    "import gzip\n",
    "import string\n",
    "from sklearn.model_selection import train_test_split\n",
    "from sklearn.preprocessing import LabelEncoder\n",
    "from sklearn.utils import shuffle\n",
    "from keras.models import Model\n",
    "from keras.models import Sequential\n",
    "from keras.layers import LSTM, Activation, Dense, Dropout, Input, Embedding, SpatialDropout1D\n",
    "from keras.optimizers import RMSprop\n",
    "from keras.preprocessing.text import Tokenizer\n",
    "from keras.preprocessing import sequence\n",
    "from keras.utils import to_categorical\n",
    "from keras.callbacks import EarlyStopping\n",
    "%matplotlib inline"
   ]
  },
  {
   "cell_type": "code",
   "execution_count": 2,
   "metadata": {},
   "outputs": [],
   "source": [
    "def clean(questions):\n",
    "    table = str.maketrans('', '', string.punctuation)\n",
    "    for i,q in enumerate(questions):\n",
    "        # tokenize\n",
    "        x = q.split()\n",
    "        # lower case\n",
    "        x = [w.lower() for w  in x]\n",
    "        # remove punctuation\n",
    "        x = [w.translate(table) for w in x]\n",
    "        # remove single-letter stuff\n",
    "        x = [w for w in x if len(w) > 1]\n",
    "        # remove numbers?\n",
    "        x = [w for w in x if w.isalpha()]\n",
    "        \n",
    "        questions[i] = ' '.join(x)"
   ]
  },
  {
   "cell_type": "code",
   "execution_count": 3,
   "metadata": {},
   "outputs": [],
   "source": [
    "fname = 'questions_train.xml'\n",
    "columns = ['questionType','question']"
   ]
  },
  {
   "cell_type": "code",
   "execution_count": 4,
   "metadata": {},
   "outputs": [],
   "source": [
    "def getdf(fname):\n",
    "    columns = ['question','questionType']\n",
    "    from bs4 import BeautifulSoup\n",
    "    x=BeautifulSoup(open('../'+fname).read())\n",
    "    x=x.xml.findAll(\"thread\")\n",
    "    df=pd.DataFrame(columns = columns)\n",
    "    for each in x:\n",
    "        qType = str(each.relquestion['relq_fact_label'])\n",
    "        qp1 = str(each.relqsubject.text)\n",
    "        qp2 = str(each.relqbody.text)\n",
    "        q = qp1 + ' ' + qp2\n",
    "        df.loc[len(df)] = [q, qType]\n",
    "    return df\n",
    "df = getdf(fname)"
   ]
  },
  {
   "cell_type": "code",
   "execution_count": 5,
   "metadata": {},
   "outputs": [
    {
     "name": "stdout",
     "output_type": "stream",
     "text": [
      "<class 'pandas.core.frame.DataFrame'>\n",
      "Int64Index: 1118 entries, 0 to 1117\n",
      "Data columns (total 2 columns):\n",
      "question        1118 non-null object\n",
      "questionType    1118 non-null object\n",
      "dtypes: object(2)\n",
      "memory usage: 26.2+ KB\n"
     ]
    }
   ],
   "source": [
    "df.info()"
   ]
  },
  {
   "cell_type": "code",
   "execution_count": 6,
   "metadata": {},
   "outputs": [
    {
     "data": {
      "text/plain": [
       "Opinion        563\n",
       "Factual        311\n",
       "Socializing    244\n",
       "Name: questionType, dtype: int64"
      ]
     },
     "execution_count": 6,
     "metadata": {},
     "output_type": "execute_result"
    }
   ],
   "source": [
    "df.questionType.value_counts()"
   ]
  },
  {
   "cell_type": "markdown",
   "metadata": {},
   "source": [
    "#### Undersampling"
   ]
  },
  {
   "cell_type": "code",
   "execution_count": 7,
   "metadata": {},
   "outputs": [],
   "source": [
    "df_fact = df[df['questionType'] == 'Factual']\n",
    "df_opi = df[df['questionType'] == 'Opinion']\n",
    "df_soc = df[df['questionType'] == 'Socializing']"
   ]
  },
  {
   "cell_type": "code",
   "execution_count": 8,
   "metadata": {},
   "outputs": [],
   "source": [
    "df_fact_undersample = df_fact.sample(244)\n",
    "df_opi_undersample = df_opi.sample(244)"
   ]
  },
  {
   "cell_type": "code",
   "execution_count": 9,
   "metadata": {},
   "outputs": [],
   "source": [
    "df_final = pd.concat([df_opi_undersample, df_fact_undersample, df_soc])"
   ]
  },
  {
   "cell_type": "code",
   "execution_count": 10,
   "metadata": {},
   "outputs": [
    {
     "data": {
      "text/plain": [
       "Opinion        244\n",
       "Socializing    244\n",
       "Factual        244\n",
       "Name: questionType, dtype: int64"
      ]
     },
     "execution_count": 10,
     "metadata": {},
     "output_type": "execute_result"
    }
   ],
   "source": [
    "df = df_final\n",
    "df\n",
    "df.questionType.value_counts()"
   ]
  },
  {
   "cell_type": "code",
   "execution_count": null,
   "metadata": {},
   "outputs": [],
   "source": []
  },
  {
   "cell_type": "code",
   "execution_count": 11,
   "metadata": {},
   "outputs": [],
   "source": [
    "df = shuffle(df)"
   ]
  },
  {
   "cell_type": "code",
   "execution_count": 12,
   "metadata": {},
   "outputs": [],
   "source": [
    "questions = df['question'].values.tolist()\n",
    "clean(questions)\n",
    "X = pd.Series(questions)\n",
    "Y = df.questionType"
   ]
  },
  {
   "cell_type": "code",
   "execution_count": 13,
   "metadata": {},
   "outputs": [
    {
     "name": "stdout",
     "output_type": "stream",
     "text": [
      "(732,)\n",
      "(732, 3)\n",
      "[[0. 1. 0.]\n",
      " [0. 1. 0.]\n",
      " [0. 1. 0.]\n",
      " ...\n",
      " [0. 0. 1.]\n",
      " [1. 0. 0.]\n",
      " [1. 0. 0.]]\n"
     ]
    },
    {
     "data": {
      "text/plain": [
       "array(['Factual', 'Opinion', 'Socializing'], dtype=object)"
      ]
     },
     "execution_count": 13,
     "metadata": {},
     "output_type": "execute_result"
    }
   ],
   "source": [
    "le = LabelEncoder()\n",
    "Y = le.fit_transform(Y)\n",
    "print(Y.shape)\n",
    "# Y = Y.reshape(-1,1)\n",
    "# print(Y.shape)\n",
    "# print(Y)\n",
    "Y = to_categorical(Y, num_classes=3)\n",
    "print(Y.shape)\n",
    "print(Y)\n",
    "le.inverse_transform([0,1,2])"
   ]
  },
  {
   "cell_type": "code",
   "execution_count": 14,
   "metadata": {},
   "outputs": [],
   "source": [
    "max_words = 1000#20000\n",
    "max_len = 100#len(max(X))//2\n",
    "tok = Tokenizer(num_words=max_words, filters='!\"#$%&()*+,-./:;<=>?@[\\]^_`{|}~', lower=True)\n",
    "tok.fit_on_texts(X)\n",
    "\n",
    "sequences = tok.texts_to_sequences(X)\n",
    "sequences_matrix = sequence.pad_sequences(sequences,maxlen=max_len)"
   ]
  },
  {
   "cell_type": "code",
   "execution_count": 15,
   "metadata": {},
   "outputs": [],
   "source": [
    "# X_train,X_test,Y_train,Y_test = train_test_split(X,Y,test_size=0.15, random_state=42)\n",
    "X_train,X_test,Y_train,Y_test = train_test_split(sequences_matrix,Y,test_size=0.15)#, random_state=42)"
   ]
  },
  {
   "cell_type": "markdown",
   "metadata": {},
   "source": [
    "Processing the data\n",
    "- Tokenize and convert text to seq\n",
    "- add padding all seq has same shape\n",
    "- choose arbitrary max_len. many ways exist"
   ]
  },
  {
   "cell_type": "code",
   "execution_count": 16,
   "metadata": {},
   "outputs": [],
   "source": [
    "# word_index = tok.word_index\n",
    "# print('Found %s unique tokens.' % len(word_index))"
   ]
  },
  {
   "cell_type": "code",
   "execution_count": 17,
   "metadata": {},
   "outputs": [
    {
     "name": "stdout",
     "output_type": "stream",
     "text": [
      "(732,)\n",
      "(732, 3)\n"
     ]
    }
   ],
   "source": [
    "print(X.shape)\n",
    "print(Y.shape)"
   ]
  },
  {
   "cell_type": "code",
   "execution_count": 18,
   "metadata": {},
   "outputs": [],
   "source": [
    "def RNN():    \n",
    "    inputs = Input(shape=[max_len])\n",
    "    layer = Embedding(max_words,50, input_length=max_len)(inputs)\n",
    "    layer = LSTM(64)(layer)\n",
    "    layer = Dense(128, activation='relu')(layer)\n",
    "#     layer = Activation('relu')(layer)\n",
    "    layer = Dropout(0.4)(layer)\n",
    "    layer = Dense(3, activation='softmax')(layer)\n",
    "    layer = Activation('softmax')(layer)\n",
    "\n",
    "    model = Model(inputs=inputs,outputs=layer)\n",
    "    model.compile(optimizer='adam', loss='categorical_crossentropy', metrics=['accuracy'])\n",
    "    return model"
   ]
  },
  {
   "cell_type": "code",
   "execution_count": 19,
   "metadata": {},
   "outputs": [
    {
     "name": "stdout",
     "output_type": "stream",
     "text": [
      "_________________________________________________________________\n",
      "Layer (type)                 Output Shape              Param #   \n",
      "=================================================================\n",
      "input_1 (InputLayer)         (None, 100)               0         \n",
      "_________________________________________________________________\n",
      "embedding_1 (Embedding)      (None, 100, 50)           50000     \n",
      "_________________________________________________________________\n",
      "lstm_1 (LSTM)                (None, 64)                29440     \n",
      "_________________________________________________________________\n",
      "dense_1 (Dense)              (None, 128)               8320      \n",
      "_________________________________________________________________\n",
      "dropout_1 (Dropout)          (None, 128)               0         \n",
      "_________________________________________________________________\n",
      "dense_2 (Dense)              (None, 3)                 387       \n",
      "_________________________________________________________________\n",
      "activation_1 (Activation)    (None, 3)                 0         \n",
      "=================================================================\n",
      "Total params: 88,147\n",
      "Trainable params: 88,147\n",
      "Non-trainable params: 0\n",
      "_________________________________________________________________\n",
      "((622, 100), (622, 3), (110, 100), (110, 3))\n",
      "Train on 528 samples, validate on 94 samples\n",
      "Epoch 1/30\n",
      "528/528 [==============================] - 2s 3ms/step - loss: 1.0986 - acc: 0.3314 - val_loss: 1.0984 - val_acc: 0.3511\n",
      "Epoch 2/30\n",
      "528/528 [==============================] - 1s 2ms/step - loss: 1.0974 - acc: 0.4375 - val_loss: 1.0983 - val_acc: 0.3511\n",
      "Epoch 3/30\n",
      "528/528 [==============================] - 1s 2ms/step - loss: 1.0963 - acc: 0.4867 - val_loss: 1.0979 - val_acc: 0.3617\n",
      "Epoch 4/30\n",
      "528/528 [==============================] - 1s 2ms/step - loss: 1.0943 - acc: 0.4886 - val_loss: 1.0970 - val_acc: 0.3936\n",
      "Epoch 5/30\n",
      "528/528 [==============================] - 1s 2ms/step - loss: 1.0902 - acc: 0.5473 - val_loss: 1.0946 - val_acc: 0.3936\n",
      "Epoch 6/30\n",
      "528/528 [==============================] - 1s 2ms/step - loss: 1.0822 - acc: 0.5720 - val_loss: 1.0879 - val_acc: 0.4574\n",
      "Epoch 7/30\n",
      "528/528 [==============================] - 1s 2ms/step - loss: 1.0612 - acc: 0.5473 - val_loss: 1.0768 - val_acc: 0.3936\n",
      "Epoch 8/30\n",
      "528/528 [==============================] - 1s 2ms/step - loss: 1.0323 - acc: 0.4792 - val_loss: 1.0466 - val_acc: 0.5213\n",
      "Epoch 9/30\n",
      "528/528 [==============================] - 1s 2ms/step - loss: 0.9854 - acc: 0.6818 - val_loss: 1.0343 - val_acc: 0.5000\n",
      "Epoch 10/30\n",
      "528/528 [==============================] - 1s 2ms/step - loss: 0.9163 - acc: 0.6970 - val_loss: 1.0169 - val_acc: 0.4894\n",
      "Epoch 11/30\n",
      "528/528 [==============================] - 2s 3ms/step - loss: 0.8637 - acc: 0.7405 - val_loss: 1.0020 - val_acc: 0.5213\n",
      "Epoch 12/30\n",
      "528/528 [==============================] - 1s 3ms/step - loss: 0.8252 - acc: 0.8598 - val_loss: 0.9869 - val_acc: 0.5638\n",
      "Epoch 13/30\n",
      "528/528 [==============================] - 1s 2ms/step - loss: 0.7755 - acc: 0.8504 - val_loss: 0.9996 - val_acc: 0.5000\n",
      "Epoch 14/30\n",
      "528/528 [==============================] - 1s 2ms/step - loss: 0.7250 - acc: 0.8769 - val_loss: 0.9676 - val_acc: 0.5426\n",
      "Epoch 15/30\n",
      "528/528 [==============================] - 1s 1ms/step - loss: 0.6993 - acc: 0.8864 - val_loss: 0.9749 - val_acc: 0.5426\n",
      "Epoch 16/30\n",
      "528/528 [==============================] - 1s 2ms/step - loss: 0.6667 - acc: 0.9072 - val_loss: 0.9697 - val_acc: 0.5532\n",
      "Epoch 17/30\n",
      "528/528 [==============================] - 1s 2ms/step - loss: 0.6802 - acc: 0.8883 - val_loss: 0.9609 - val_acc: 0.6170\n",
      "Epoch 18/30\n",
      "528/528 [==============================] - 1s 2ms/step - loss: 0.6343 - acc: 0.9356 - val_loss: 0.9555 - val_acc: 0.5851\n",
      "Epoch 19/30\n",
      "528/528 [==============================] - 1s 3ms/step - loss: 0.6295 - acc: 0.9337 - val_loss: 0.9578 - val_acc: 0.5851\n",
      "Epoch 20/30\n",
      "528/528 [==============================] - 1s 3ms/step - loss: 0.6199 - acc: 0.9375 - val_loss: 0.9425 - val_acc: 0.5851\n",
      "Epoch 21/30\n",
      "528/528 [==============================] - 1s 2ms/step - loss: 0.6182 - acc: 0.9508 - val_loss: 0.9727 - val_acc: 0.5638\n",
      "Epoch 22/30\n",
      "528/528 [==============================] - 1s 1ms/step - loss: 0.6059 - acc: 0.9564 - val_loss: 0.9920 - val_acc: 0.5000\n",
      "Epoch 23/30\n",
      "528/528 [==============================] - 1s 2ms/step - loss: 0.6003 - acc: 0.9602 - val_loss: 0.9935 - val_acc: 0.5213\n",
      "Epoch 24/30\n",
      "528/528 [==============================] - 1s 2ms/step - loss: 0.5855 - acc: 0.9735 - val_loss: 0.9937 - val_acc: 0.5532\n",
      "Epoch 25/30\n",
      "528/528 [==============================] - 1s 3ms/step - loss: 0.5827 - acc: 0.9735 - val_loss: 0.9968 - val_acc: 0.5319\n",
      "Epoch 26/30\n",
      "528/528 [==============================] - 1s 2ms/step - loss: 0.5806 - acc: 0.9773 - val_loss: 0.9811 - val_acc: 0.5638\n",
      "Epoch 27/30\n",
      "528/528 [==============================] - 1s 2ms/step - loss: 0.5802 - acc: 0.9754 - val_loss: 0.9633 - val_acc: 0.5851\n",
      "Epoch 28/30\n",
      "528/528 [==============================] - 1s 2ms/step - loss: 0.5779 - acc: 0.9773 - val_loss: 0.9824 - val_acc: 0.5532\n",
      "Epoch 29/30\n",
      "528/528 [==============================] - 1s 2ms/step - loss: 0.5816 - acc: 0.9735 - val_loss: 0.9788 - val_acc: 0.5426\n",
      "Epoch 30/30\n",
      "528/528 [==============================] - 1s 2ms/step - loss: 0.5766 - acc: 0.9773 - val_loss: 0.9865 - val_acc: 0.5638\n",
      "110/110 [==============================] - 0s 644us/step\n",
      "Test set\n",
      "  Loss: 0.867\n",
      "  Accuracy: 0.6727\n"
     ]
    }
   ],
   "source": [
    "model = RNN()\n",
    "model.summary()\n",
    "print((X_train.shape, Y_train.shape, X_test.shape, Y_test.shape))\n",
    "model.fit(X_train,Y_train,batch_size=128,epochs=30,\n",
    "          validation_split=0.15)#, callbacks=[EarlyStopping(monitor='val_loss',min_delta=0.001)])\n",
    "accr = model.evaluate(X_test,Y_test)\n",
    "print('Test set\\n  Loss: {:0.3f}\\n  Accuracy: {:0.4f}'.format(accr[0],accr[1]))"
   ]
  },
  {
   "cell_type": "code",
   "execution_count": null,
   "metadata": {},
   "outputs": [],
   "source": []
  },
  {
   "cell_type": "code",
   "execution_count": null,
   "metadata": {},
   "outputs": [],
   "source": []
  }
 ],
 "metadata": {
  "kernelspec": {
   "display_name": "major_project",
   "language": "python",
   "name": "major_project"
  },
  "language_info": {
   "codemirror_mode": {
    "name": "ipython",
    "version": 3
   },
   "file_extension": ".py",
   "mimetype": "text/x-python",
   "name": "python",
   "nbconvert_exporter": "python",
   "pygments_lexer": "ipython3",
   "version": "3.6.7"
  }
 },
 "nbformat": 4,
 "nbformat_minor": 2
}
